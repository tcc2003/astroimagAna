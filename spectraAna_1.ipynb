{
 "cells": [
  {
   "cell_type": "code",
   "execution_count": 2,
   "id": "0b0b3619",
   "metadata": {
    "scrolled": true
   },
   "outputs": [],
   "source": [
    "import os, sys, time\n",
    "sys.path.append('./')\n",
    "\n",
    "import numpy as np\n",
    "import pandas as pd\n",
    "import pickle, csv\n",
    "from scipy.interpolate import interp1d\n",
    "\n",
    "from astropy import wcs\n",
    "from astropy.io import fits\n",
    "\n",
    "import matplotlib\n",
    "%matplotlib inline\n",
    "import matplotlib.pyplot as plt\n",
    "from matplotlib.ticker import ScalarFormatter\n",
    "\n",
    "import main as m\n",
    "from main import spectraAna"
   ]
  },
  {
   "cell_type": "markdown",
   "id": "f9b3c08e",
   "metadata": {},
   "source": [
    "### STEP 1. Open FITS image cube\n"
   ]
  },
  {
   "cell_type": "code",
   "execution_count": 3,
   "id": "5fa4d4db",
   "metadata": {},
   "outputs": [],
   "source": [
    "## Open FITS image cube\n",
    "fitscubename = '../data/cold_spw1.fits'\n",
    "s = spectraAna(fitscubename = fitscubename)\n",
    "s.readfits(verbose = False)\n",
    "\n",
    "naxis1   = s.naxis1\n",
    "naxis2   = s.naxis2\n",
    "ctype3   = s.ctype3\n",
    "naxis3   = s.naxis3\n",
    "crpix3   = s.crpix3\n",
    "cdelt3   = s.cdelt3\n",
    "crval3   = s.crval3 \n",
    "restfreq = s.restfreq\n",
    "cube     = s.cube  ## all intensity \n",
    "freq_array = s.freq_array\n",
    "velo_array = s.velo_array"
   ]
  },
  {
   "cell_type": "markdown",
   "id": "0710fcb0",
   "metadata": {},
   "source": [
    "### STEP 2.  Fitting the spectra using `gausspy`.\n",
    "***STEP 2-1.*** Fit"
   ]
  },
  {
   "cell_type": "code",
   "execution_count": null,
   "id": "da04f00b",
   "metadata": {
    "scrolled": true
   },
   "outputs": [],
   "source": [
    "rms_spw0 = 0.0018148618\n",
    "rms_spw1 = 0.0017738817\n",
    "rms_spw2 = 0.0025416217\n",
    "rms_spw3 = 0.0018573649\n",
    "\n",
    "s.fit_1dgauss( cube = cube, velo=velo_array, freq=freq_array,\n",
    "               spw_id = '1', rms = rms_spw1, base = 'velo',\n",
    "               xrange1 = 0, xrange2 = naxis1,\n",
    "               yrange1 = 0, yrange2 = naxis2  )"
   ]
  },
  {
   "cell_type": "markdown",
   "id": "597b0487",
   "metadata": {},
   "source": [
    "***STEP 2-2***. Create a dictionary to categorize pixel data based on the Gaussian fitting results— **s** for spectra fitted with a single Gaussian component, **m** for those fitted with multiple components, and **f** for those with no successful fit. Additionally, mapping these categories to their corresponding pixel positions can be helpful for debugging purposes. Include the index of each entry as well, so it aligns with the ordering of data used in the AGD algorithm."
   ]
  },
  {
   "cell_type": "code",
   "execution_count": 4,
   "id": "153a7d71",
   "metadata": {},
   "outputs": [],
   "source": [
    "spw_id = '1'\n",
    "data = pickle.load(open(f'cube_{spw_id}.pickle','rb'))\n",
    "data_decomposed = pickle.load(open(f'cube_decomposed_{spw_id}.pickle','rb'))\n",
    "\n",
    "fit_result_dic = {'s':[], 'm':[], 'f':[]}\n",
    "\n",
    "# The index 'i' correspond to the ordering of data and decomposed data stored by AGD algorithm\n",
    "for i, (loc, ff_in_each_pixel) in enumerate(zip(data['location'], data_decomposed['means_fit'])):\n",
    "    loc = tuple(loc)\n",
    "\n",
    "    if len(ff_in_each_pixel) == 0: \n",
    "        fit_result_dic['f'].append((i, loc)) # fail\n",
    "    elif len(ff_in_each_pixel) == 1: \n",
    "        fit_result_dic['s'].append((i, loc)) # single\n",
    "    else: \n",
    "        fit_result_dic['m'].append((i, loc)) # multiple"
   ]
  },
  {
   "cell_type": "markdown",
   "id": "542fc142",
   "metadata": {},
   "source": [
    "A. Plot the fitting results categorized by classification (s, m, f)."
   ]
  },
  {
   "cell_type": "code",
   "execution_count": null,
   "id": "8c2e6d2f",
   "metadata": {
    "scrolled": true
   },
   "outputs": [],
   "source": [
    "xvalue_array = velo_array/1e3\n",
    "data_pair = {'inten':[], 'gauss':[]} \n",
    "\n",
    "for data_loc in fit_result_dic['m']:\n",
    "    index    = data_loc[0]        \n",
    "    location = data_loc[1]\n",
    "    \n",
    "    fit_fwhms = data_decomposed['fwhms_fit'][index]\n",
    "    fit_means = data_decomposed['means_fit'][index]\n",
    "    fit_amps  = data_decomposed['amplitudes_fit'][index]\n",
    "    \n",
    "    inten = data['data_list'][index]\n",
    "    gauss = list(zip(fit_amps, fit_fwhms, fit_means))\n",
    "    \n",
    "    data_pair['inten'].append(inten)\n",
    "    data_pair['gauss'].append(gauss)\n",
    "\n",
    "for inten, gauss in zip(data_pair['inten'], data_pair['gauss']):\n",
    "    m.plot_spectra(xvalue_array, inten, color='grey', datalabel='Data', \n",
    "                   figsize=(10,6), xlabel = 'Velocity[km/s]', gaussians=gauss)"
   ]
  },
  {
   "cell_type": "markdown",
   "id": "6958ea95",
   "metadata": {},
   "source": [
    "B. Plot the spectrum of a selected pixel."
   ]
  },
  {
   "cell_type": "code",
   "execution_count": null,
   "id": "e8fb60b6",
   "metadata": {},
   "outputs": [],
   "source": [
    "pixel = [ \n",
    "        (39,58), (55,58), (51,53), (35,51), (48,46),\n",
    "        (48,39), (65,45), (34,68), (66,32)\n",
    "        ]"
   ]
  },
  {
   "cell_type": "code",
   "execution_count": null,
   "id": "bbc4dffd",
   "metadata": {
    "scrolled": false
   },
   "outputs": [],
   "source": [
    "## Select the range of x (optional)\n",
    "x_start = -50\n",
    "x_end   = 200\n",
    "\n",
    "x_startpix = np.searchsorted(velo_array, x_start*1e3) \n",
    "x_endpix   = np.searchsorted(velo_array, x_end*1e3)\n",
    "sliced_x   = velo_array[x_startpix:x_endpix]\n",
    "\n",
    "# location <-> index\n",
    "loc_dict = {tuple(loc): i for i, loc in enumerate(data['location'])}\n",
    "\n",
    "for pix in pixel:\n",
    "    if pix in loc_dict:\n",
    "        i = loc_dict[pix]\n",
    "\n",
    "        fit_fwhms = data_decomposed['fwhms_fit'][i]\n",
    "        fit_means = data_decomposed['means_fit'][i]\n",
    "        fit_amps  = data_decomposed['amplitudes_fit'][i]\n",
    "            \n",
    "        inten = data['data_list'][i]\n",
    "        sliced_inten = inten[x_startpix:x_endpix]\n",
    "        gauss = list(zip(fit_amps, fit_fwhms, fit_means))\n",
    "            \n",
    "        # output setting\n",
    "        num = str(pix[0]) + str(pix[1])\n",
    "        outdir = './fit_1/'\n",
    "        outname = f'spw1_{num}'\n",
    "        outpath = os.path.join(outdir, outname)\n",
    "            \n",
    "        m.plot_spectra( sliced_x/1e3, sliced_inten, \n",
    "                        figsize = (10,6), xlabel = 'Velocity[km/s]', \n",
    "                        xlabel_size = 35, ylabel_size = 35,\n",
    "                        xtick_size = 30, ytick_size = 30,\n",
    "                        color = 'grey', datalabel = 'Data', \n",
    "                        gaussians = gauss #, outfile = outpath\n",
    "                          )"
   ]
  },
  {
   "cell_type": "markdown",
   "id": "1fb8af01",
   "metadata": {},
   "source": [
    "### STEP 3. Unredshift spectra"
   ]
  },
  {
   "cell_type": "code",
   "execution_count": null,
   "id": "92c66d9c",
   "metadata": {},
   "outputs": [],
   "source": [
    "# These pixels are checked manually\n",
    "fail_fit_pixels = [ (14,69), (14,70), (19,8) , (22,4) , (22,5) , (23,4),  (24,4) , \n",
    "                    (32,36), (33,36), (74,66), (76,46), (76,83), (77,46), (79,46), \n",
    "                    (81,78), (81,84), (82,78), (6,2)  , (7,1)  , (7,2)  , (8,1)  ,\n",
    "                    (8,25) , (28,37), (30,77), (51,15), (67,76), (87,3) , (88,2), \n",
    "                    (1,8), (2,8), (55,16), (65,73), (62,73), (64,73)\n",
    "                   ]"
   ]
  },
  {
   "cell_type": "code",
   "execution_count": null,
   "id": "8a1c1ed8",
   "metadata": {},
   "outputs": [],
   "source": [
    "shifted_x_list = []\n",
    "intensity_list = []\n",
    "shift_info_so = {'delta_value':[], 'loc':[]}\n",
    "\n",
    "for loc in fit_result_dic['s']:\n",
    "    index = loc[0]\n",
    "    pixel = loc[1]\n",
    "    \n",
    "    if pixel in fail_fit_pixels:\n",
    "        continue\n",
    "    \n",
    "    pixel_data = data['data_list'][index]\n",
    "    fx_in_each_pixel = data_decomposed['means_fit'][index]\n",
    "        \n",
    "    shift_x, delta_x = s.unredshift(freq_array = freq_array,\n",
    "                                    velo_array = velo_array,\n",
    "                                    base = 'velo',\n",
    "                                    centroid_value = fx_in_each_pixel[0],\n",
    "                                    spw_restfreq = restfreq,\n",
    "                                    fit_linefreq = 216.1125822e9\n",
    "                                    )\n",
    "\n",
    "    shifted_x_list.append(shift_x)\n",
    "    intensity_list.append(pixel_data)\n",
    "    \n",
    "    shift_info_so['delta_value'].append(delta_x)\n",
    "    shift_info_so['loc'].append(pixel)\n",
    "       \n",
    "            \n",
    "for loc in fit_result_dic['m']:\n",
    "    index = loc[0]\n",
    "    pixel = loc[1]\n",
    "    \n",
    "    if pixel in fail_fit_pixels:\n",
    "        continue\n",
    "    \n",
    "    pixel_data = data['data_list'][index]\n",
    "    amps   = data_decomposed['amplitudes_fit'][index]\n",
    "    x_fits = data_decomposed['means_fit'][index]\n",
    "    \n",
    "    try:\n",
    "        max_index = np.argmax(amps) #Find the highest peak\n",
    "        x_fit     = x_fits[max_index]\n",
    "    except:\n",
    "        print(f'Failed to fit in {loc}')\n",
    "        continue\n",
    "        \n",
    "        \n",
    "    shift_x, delta_x = s.unredshift(freq_array = freq_array,\n",
    "                                    velo_array = velo_array,\n",
    "                                    centroid_value  = x_fit,\n",
    "                                    spw_restfreq = restfreq,\n",
    "                                    fit_linefreq = 216.1125822e9\n",
    "                                    )\n",
    "        \n",
    "    shifted_x_list.append(shift_x)\n",
    "    intensity_list.append(pixel_data)\n",
    "        \n",
    "    shift_info_so['delta_value'].append(delta_x)\n",
    "    shift_info_so['loc'].append(pixel)\n",
    "    \n",
    "for loc in fit_result_dic['f']:\n",
    "    index = loc[0]\n",
    "    pixel = loc[1]\n",
    "    \n",
    "    shift_info_so['delta_value'].append([]) # add empty list\n",
    "    shift_info_so['loc'].append(pixel)\n",
    "\n",
    "filename = 'shift_info_so.pickle'\n",
    "pickle.dump(shift_info_so, open(filename, 'wb'))"
   ]
  },
  {
   "cell_type": "markdown",
   "id": "55c91156",
   "metadata": {},
   "source": [
    "Use the velocity distribution of SiO."
   ]
  },
  {
   "cell_type": "code",
   "execution_count": null,
   "id": "59049b2b",
   "metadata": {},
   "outputs": [],
   "source": [
    "intensity_list = []\n",
    "shifted_x_list = []\n",
    "\n",
    "xvalue_array = velo_array\n",
    "shift_info_sio = pickle.load(open('shift_info_sio.pickle', 'rb'))\n",
    "\n",
    "if len(data['data_list']) != len(shift_info_sio['delta_value']):\n",
    "    raise ValueError(\"Mismatch in length between data and shift_info dictionaries.\")\n",
    "    \n",
    "else:\n",
    "    shifted_x_list = [velo_array - dv for dv in shift_info_sio['delta_value'] if len(dv) != 0]\n",
    "    intensity_list = [data['data_list'][i] for i, dv in enumerate(shift_info_sio['delta_value']) if len(dv) != 0]"
   ]
  },
  {
   "cell_type": "markdown",
   "id": "5e3c90b0",
   "metadata": {},
   "source": [
    "### STEP 4. Stack spectra"
   ]
  },
  {
   "cell_type": "code",
   "execution_count": null,
   "id": "b5465e0d",
   "metadata": {},
   "outputs": [],
   "source": [
    "# create the new x_value array to cover all freq(or velo) value\n",
    "minx = min(min(x) for x in shifted_x_list)\n",
    "maxx = max(max(x) for x in shifted_x_list)\n",
    "mean_spacing = np.mean([np.mean(np.diff(x)) for x in shifted_x_list])\n",
    "points = int( (maxx - minx)/ mean_spacing)\n",
    "newx_array = np.linspace(minx, maxx, points)\n",
    "\n",
    "\n",
    "# stack the spectra\n",
    "average_inten_shift = s.stack_spectra(newx_array, \n",
    "                                      shifted_x_list, \n",
    "                                      intensity_list,\n",
    "                                      option='unredshift')\n",
    "\n",
    "average_inten_noshift = s.stack_spectra(newx_array, \n",
    "                                      shifted_x_list, \n",
    "                                      intensity_list, \n",
    "                                      option='redshift')\n",
    "\n",
    "# plot the result\n",
    "m.plot_spectra(newx_array/1e3, average_inten_shift, \n",
    "               figsize=(10,6), color='black',\n",
    "               xlabel='Velocity[km/s]',\n",
    "               xlabel_size = 30, ylabel_size = 30, \n",
    "               xtick_size  = 30, ytick_size  = 30\n",
    "              )\n",
    "\n",
    "m.plot_spectra(velo_array/1e3, average_inten_noshift, \n",
    "               figsize=(10,6), color='black',\n",
    "               xlabel='Velocity[km/s]',\n",
    "               xlabel_size = 30, ylabel_size = 30, \n",
    "               xtick_size  = 30, ytick_size  = 30\n",
    "              )"
   ]
  },
  {
   "cell_type": "markdown",
   "id": "75d7ed7f",
   "metadata": {},
   "source": [
    "Add the pixels which are failed to fit gaussian function"
   ]
  },
  {
   "cell_type": "code",
   "execution_count": null,
   "id": "087c9d34",
   "metadata": {},
   "outputs": [],
   "source": [
    "sum_f_intensity = np.zeros(1532)\n",
    "\n",
    "for loc in fit_result_dic['f']:\n",
    "    index = loc[0]\n",
    "    pixel = loc[1]\n",
    "    \n",
    "    pixel_data = data['data_list'][index]\n",
    "    sum_f_intensity += pixel_data\n",
    "    intensity_list.append(pixel_data)\n",
    "        \n",
    "interp_func_f = interp1d(velocity_array, sum_f_intensity, kind='linear', bounds_error=False, fill_value=0)\n",
    "sum_f_intensity_interp = interp_func_f(newx_array)"
   ]
  },
  {
   "cell_type": "code",
   "execution_count": null,
   "id": "23f6542a",
   "metadata": {},
   "outputs": [],
   "source": [
    "total_sum_intensity = sum_f_intensity_interp + sum_sm_intensity\n",
    "length = len(intensity_list) + 6350\n",
    "#print(length)\n",
    "averaged_intensity = total_sum_intensity / length\n",
    "\n",
    "m.plot_spectra(newx_array/1e3, averaged_intensity, figsize=(10,6), color='black',xlabel='Velocity[km/s]')"
   ]
  },
  {
   "cell_type": "markdown",
   "id": "35a46b10",
   "metadata": {},
   "source": [
    "Generate the figure using the **SO** velocity distribution."
   ]
  },
  {
   "cell_type": "code",
   "execution_count": null,
   "id": "5bd1f89d",
   "metadata": {},
   "outputs": [],
   "source": [
    "# search the velocities of DCO+ \n",
    "freq = [ 216.1125162e9, 216.1125779e9, 216.1125804e9, 216.1125822e9, 216.1125884e9, 216.1126299e9]\n",
    "for f in freq:\n",
    "    v = c * (1 - f / restfreq)\n",
    "    print(v/1e3)"
   ]
  },
  {
   "cell_type": "code",
   "execution_count": null,
   "id": "98379177",
   "metadata": {},
   "outputs": [],
   "source": [
    "## View specific range (velocity in km/s, frequency in GHz)\n",
    "x_start = -600\n",
    "x_end   = -545\n",
    "\n",
    "x_startpix = np.searchsorted(newx_array, x_start*1e3) \n",
    "x_endpix   = np.searchsorted(newx_array, x_end*1e3)\n",
    "\n",
    "x_start_no = np.searchsorted(velo_array, x_start*1e3)\n",
    "x_end_no   = np.searchsorted(velo_array, x_end*1e3)\n",
    "\n",
    "print(x_startpix, x_endpix)\n",
    "print(x_start_no, x_end_no)\n",
    "\n",
    "# Plot\n",
    "sliced_x    = newx_array[x_startpix:x_endpix]\n",
    "sliced_x_no = velo_array[x_start_no:x_end_no]\n",
    "sliced_inten = average_inten_shift[x_startpix:x_endpix]\n",
    "sliced_inten_noshift = average_inten_noshift[x_start_no:x_end_no]\n",
    "\n",
    "fig = plt.figure(figsize = (10,6))\n",
    "ax = fig.add_axes([0.12, 0.1, 0.75, 0.75])\n",
    "#ax.xaxis.set_major_formatter(ScalarFormatter(useOffset=False)\n",
    "\n",
    "ax.tick_params(axis='both', labelsize=30)\n",
    "\n",
    "plt.xlabel('Velocity [km/s]', size = 35)\n",
    "plt.ylabel('Intensity [Jy/beam]', size = 35)\n",
    "\n",
    "plt.plot(sliced_x_no/1e3, sliced_inten_noshift, '-', color='grey', linewidth = 2.0)\n",
    "plt.plot(sliced_x/1e3, sliced_inten,'-', color='red', linewidth = 2.0)\n",
    "\n",
    "plt.text(0.03, 0.87, 'DCO$^{+}$ (3-2) ', \n",
    "         verticalalignment = 'bottom', horizontalalignment = 'left',\n",
    "         color='black', transform = ax.transAxes, fontsize=30)\n",
    "\n",
    "#plt.savefig('StackDCO+_wso.png',bbox_inches='tight')"
   ]
  },
  {
   "cell_type": "markdown",
   "id": "f6214bea",
   "metadata": {},
   "source": [
    "Generate the figure using the **SiO** velocity distribution."
   ]
  },
  {
   "cell_type": "code",
   "execution_count": null,
   "id": "83fe994f",
   "metadata": {
    "scrolled": false
   },
   "outputs": [],
   "source": [
    "## View specific range (velocity in km/s, frequency in GHz)\n",
    "x_start = -600\n",
    "x_end   = -545\n",
    "\n",
    "x_startpix = np.searchsorted(newx_array, x_start*1e3) \n",
    "x_endpix   = np.searchsorted(newx_array, x_end*1e3)\n",
    "\n",
    "x_start_no = np.searchsorted(velo_array, x_start*1e3)\n",
    "x_end_no   = np.searchsorted(velo_array, x_end*1e3)\n",
    "\n",
    "print(x_startpix, x_endpix)\n",
    "print(x_start_no, x_end_no)\n",
    "\n",
    "# Plot\n",
    "sliced_x    = newx_array[x_startpix:x_endpix]\n",
    "sliced_x_no = velo_array[x_start_no:x_end_no]\n",
    "sliced_inten = average_inten_shift[x_startpix:x_endpix]\n",
    "sliced_inten_noshift = average_inten_noshift[x_start_no:x_end_no]\n",
    "\n",
    "fig = plt.figure(figsize = (10,6))\n",
    "ax = fig.add_axes([0.12, 0.1, 0.75, 0.75])\n",
    "#ax.xaxis.set_major_formatter(ScalarFormatter(useOffset=False)\n",
    "\n",
    "ax.tick_params(axis='both', labelsize=30)\n",
    "\n",
    "plt.xlabel('Velocity [km/s]', size = 35)\n",
    "plt.ylabel('Intensity [Jy/beam]', size = 35)\n",
    "\n",
    "plt.plot(sliced_x_no/1e3, sliced_inten_noshift, '-', color='grey', linewidth = 2.0)\n",
    "plt.plot(sliced_x/1e3, sliced_inten,'-', color='red', linewidth = 2.0)\n",
    "\n",
    "plt.text(0.03, 0.87, 'DCO$^{+}$ (3-2) ', \n",
    "         verticalalignment = 'bottom', horizontalalignment = 'left',\n",
    "         color='black', transform = ax.transAxes, fontsize=30)\n",
    "\n",
    "#plt.savefig('StackDCO+_wsio.png',bbox_inches='tight')"
   ]
  }
 ],
 "metadata": {
  "kernelspec": {
   "display_name": "Python 3 (ipykernel)",
   "language": "python",
   "name": "python3"
  },
  "language_info": {
   "codemirror_mode": {
    "name": "ipython",
    "version": 3
   },
   "file_extension": ".py",
   "mimetype": "text/x-python",
   "name": "python",
   "nbconvert_exporter": "python",
   "pygments_lexer": "ipython3",
   "version": "3.7.16"
  }
 },
 "nbformat": 4,
 "nbformat_minor": 5
}
