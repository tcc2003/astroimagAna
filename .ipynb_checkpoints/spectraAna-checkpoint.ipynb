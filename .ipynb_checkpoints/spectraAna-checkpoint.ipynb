{
 "cells": [
  {
   "cell_type": "code",
   "execution_count": 1,
   "id": "0b0b3619",
   "metadata": {},
   "outputs": [
    {
     "name": "stderr",
     "output_type": "stream",
     "text": [
      "WARNING: AstropyDeprecationWarning: block_reduce was moved to the astropy.nddata.blocks module.  Please update your import statement. [astropy.nddata.utils]\n"
     ]
    }
   ],
   "source": [
    "import os\n",
    "import numpy as np\n",
    "\n",
    "from astropy.io.fits import getdata\n",
    "from astropy import wcs\n",
    "from astropy.io import fits\n",
    "from astropy import units as u\n",
    "from astropy import constants as con\n",
    "from astropy.coordinates import SkyCoord\n",
    "\n",
    "import matplotlib\n",
    "import matplotlib.pyplot as plt\n",
    "import matplotlib as mpl\n",
    "import matplotlib\n",
    "\n",
    "import aplpy\n",
    "\n",
    "matplotlib.use('PDF')\n"
   ]
  },
  {
   "cell_type": "code",
   "execution_count": 43,
   "id": "15112d8f",
   "metadata": {},
   "outputs": [],
   "source": [
    "# general functions\n",
    "def fit_1dgaus():\n",
    "    '''\n",
    "    This is a general use function to fit 1D Gaussian profile.\n",
    "    '''\n",
    "    print('fitting 1D  gaussian')\n",
    "\n",
    "\n",
    "# defining classes\n",
    "class spectraAna:\n",
    "    '''\n",
    "    Class for analyzing image cube. The main purpose of this analysis is to\n",
    "    stack the un-redshifted/blueshifted spectra.\n",
    "    \n",
    "    '''\n",
    "    \n",
    "    ### Constructor and destructor\n",
    "    def __init__(self, fitscubename = ' '):\n",
    "        self.fitscubename = fitscubename\n",
    "    \n",
    "    def __def__(self):\n",
    "        pass\n",
    "    \n",
    "    \n",
    "    ### Methods in this class\n",
    "    def readfits(self, verbose = False):\n",
    "        '''\n",
    "        The task to read the FITS image cube to memory.\n",
    "        '''\n",
    "        if verbose == True:\n",
    "            print('This is the program to read FITS image cube')\n",
    "            \n",
    "        if self.fitscubename != ' ':\n",
    "            if verbose == True:\n",
    "                print('Reading FITS image cube :' + self.fitscubename)\n",
    "        \n",
    "        \n",
    "    def get_velocity(self, verbose = False):\n",
    "        '''\n",
    "        The task to fit centroid velocity pixel-by-pixel and store to a 2D numpy array.\n",
    "        '''\n",
    "        if verbose == True:\n",
    "            print('Fitting centroid velocities')\n",
    "            \n",
    "        iterators = []\n",
    "        for i in iterators:\n",
    "            fit_1dgaus()\n",
    "        \n",
    "    "
   ]
  },
  {
   "cell_type": "code",
   "execution_count": 44,
   "id": "5fa4d4db",
   "metadata": {},
   "outputs": [
    {
     "name": "stdout",
     "output_type": "stream",
     "text": [
      "This is the program to read FITS image cube\n",
      "Reading FITS image cube :./test.fits\n",
      "Fitting centroid velocities\n"
     ]
    }
   ],
   "source": [
    "## Useful function #####################################################\n",
    "# plot spectra\n",
    "\n",
    "# fit spectra (to derive centroid velocity)\n",
    "\n",
    "\n",
    "## Major flow of data analysis #########################################\n",
    "\n",
    "# Open FITS image cube\n",
    "fitscubename = './test.fits'\n",
    "myAnalysis = spectraAna(fitscubename = fitscubename)\n",
    "myAnalysis.readfits(verbose = True)\n",
    "\n",
    "# Loop over all spatial pixels and fit the centroid velocity\n",
    "myAnalysis.get_velocity(verbose = True)\n",
    "\n",
    "# Output the 2D centroid-velocity map (?)\n",
    "\n",
    "# Based on the 2D centroid-velocity map to un-redshift/blueshift spectra\n",
    "\n",
    "# stack spectra\n",
    "\n"
   ]
  },
  {
   "cell_type": "code",
   "execution_count": null,
   "id": "23fbed07",
   "metadata": {},
   "outputs": [],
   "source": []
  }
 ],
 "metadata": {
  "kernelspec": {
   "display_name": "Python 3 (ipykernel)",
   "language": "python",
   "name": "python3"
  },
  "language_info": {
   "codemirror_mode": {
    "name": "ipython",
    "version": 3
   },
   "file_extension": ".py",
   "mimetype": "text/x-python",
   "name": "python",
   "nbconvert_exporter": "python",
   "pygments_lexer": "ipython3",
   "version": "3.7.16"
  }
 },
 "nbformat": 4,
 "nbformat_minor": 5
}
